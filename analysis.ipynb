{
 "cells": [
  {
   "cell_type": "markdown",
   "id": "3832abed",
   "metadata": {},
   "source": [
    "Import pandas library"
   ]
  },
  {
   "cell_type": "code",
   "execution_count": 1,
   "id": "1eaa5624",
   "metadata": {},
   "outputs": [],
   "source": [
    "import pandas as pd"
   ]
  },
  {
   "cell_type": "markdown",
   "id": "fadecf5f",
   "metadata": {},
   "source": [
    "Read dataset with read_csv() method of pandas"
   ]
  },
  {
   "cell_type": "code",
   "execution_count": 2,
   "id": "58801106",
   "metadata": {},
   "outputs": [],
   "source": [
    "df = pd.read_csv('adultdata.csv')"
   ]
  },
  {
   "cell_type": "markdown",
   "id": "36db73ef",
   "metadata": {},
   "source": [
    "Show the first rows of the dataset"
   ]
  },
  {
   "cell_type": "code",
   "execution_count": 3,
   "id": "8b68581b",
   "metadata": {},
   "outputs": [
    {
     "data": {
      "text/html": [
       "<div>\n",
       "<style scoped>\n",
       "    .dataframe tbody tr th:only-of-type {\n",
       "        vertical-align: middle;\n",
       "    }\n",
       "\n",
       "    .dataframe tbody tr th {\n",
       "        vertical-align: top;\n",
       "    }\n",
       "\n",
       "    .dataframe thead th {\n",
       "        text-align: right;\n",
       "    }\n",
       "</style>\n",
       "<table border=\"1\" class=\"dataframe\">\n",
       "  <thead>\n",
       "    <tr style=\"text-align: right;\">\n",
       "      <th></th>\n",
       "      <th>age</th>\n",
       "      <th>workclass</th>\n",
       "      <th>fnlwgt</th>\n",
       "      <th>education</th>\n",
       "      <th>education-num</th>\n",
       "      <th>marital-status</th>\n",
       "      <th>occupation</th>\n",
       "      <th>relationship</th>\n",
       "      <th>race</th>\n",
       "      <th>sex</th>\n",
       "      <th>capital-gain</th>\n",
       "      <th>capital-loss</th>\n",
       "      <th>hours-per-week</th>\n",
       "      <th>native-country</th>\n",
       "      <th>salary</th>\n",
       "    </tr>\n",
       "  </thead>\n",
       "  <tbody>\n",
       "    <tr>\n",
       "      <th>0</th>\n",
       "      <td>39</td>\n",
       "      <td>State-gov</td>\n",
       "      <td>77516</td>\n",
       "      <td>Bachelors</td>\n",
       "      <td>13</td>\n",
       "      <td>Never-married</td>\n",
       "      <td>Adm-clerical</td>\n",
       "      <td>Not-in-family</td>\n",
       "      <td>White</td>\n",
       "      <td>Male</td>\n",
       "      <td>2174</td>\n",
       "      <td>0</td>\n",
       "      <td>40</td>\n",
       "      <td>United-States</td>\n",
       "      <td>&lt;=50K</td>\n",
       "    </tr>\n",
       "    <tr>\n",
       "      <th>1</th>\n",
       "      <td>50</td>\n",
       "      <td>Self-emp-not-inc</td>\n",
       "      <td>83311</td>\n",
       "      <td>Bachelors</td>\n",
       "      <td>13</td>\n",
       "      <td>Married-civ-spouse</td>\n",
       "      <td>Exec-managerial</td>\n",
       "      <td>Husband</td>\n",
       "      <td>White</td>\n",
       "      <td>Male</td>\n",
       "      <td>0</td>\n",
       "      <td>0</td>\n",
       "      <td>13</td>\n",
       "      <td>United-States</td>\n",
       "      <td>&lt;=50K</td>\n",
       "    </tr>\n",
       "    <tr>\n",
       "      <th>2</th>\n",
       "      <td>38</td>\n",
       "      <td>Private</td>\n",
       "      <td>215646</td>\n",
       "      <td>HS-grad</td>\n",
       "      <td>9</td>\n",
       "      <td>Divorced</td>\n",
       "      <td>Handlers-cleaners</td>\n",
       "      <td>Not-in-family</td>\n",
       "      <td>White</td>\n",
       "      <td>Male</td>\n",
       "      <td>0</td>\n",
       "      <td>0</td>\n",
       "      <td>40</td>\n",
       "      <td>United-States</td>\n",
       "      <td>&lt;=50K</td>\n",
       "    </tr>\n",
       "    <tr>\n",
       "      <th>3</th>\n",
       "      <td>53</td>\n",
       "      <td>Private</td>\n",
       "      <td>234721</td>\n",
       "      <td>11th</td>\n",
       "      <td>7</td>\n",
       "      <td>Married-civ-spouse</td>\n",
       "      <td>Handlers-cleaners</td>\n",
       "      <td>Husband</td>\n",
       "      <td>Black</td>\n",
       "      <td>Male</td>\n",
       "      <td>0</td>\n",
       "      <td>0</td>\n",
       "      <td>40</td>\n",
       "      <td>United-States</td>\n",
       "      <td>&lt;=50K</td>\n",
       "    </tr>\n",
       "    <tr>\n",
       "      <th>4</th>\n",
       "      <td>28</td>\n",
       "      <td>Private</td>\n",
       "      <td>338409</td>\n",
       "      <td>Bachelors</td>\n",
       "      <td>13</td>\n",
       "      <td>Married-civ-spouse</td>\n",
       "      <td>Prof-specialty</td>\n",
       "      <td>Wife</td>\n",
       "      <td>Black</td>\n",
       "      <td>Female</td>\n",
       "      <td>0</td>\n",
       "      <td>0</td>\n",
       "      <td>40</td>\n",
       "      <td>Cuba</td>\n",
       "      <td>&lt;=50K</td>\n",
       "    </tr>\n",
       "  </tbody>\n",
       "</table>\n",
       "</div>"
      ],
      "text/plain": [
       "   age         workclass  fnlwgt  education  education-num  \\\n",
       "0   39         State-gov   77516  Bachelors             13   \n",
       "1   50  Self-emp-not-inc   83311  Bachelors             13   \n",
       "2   38           Private  215646    HS-grad              9   \n",
       "3   53           Private  234721       11th              7   \n",
       "4   28           Private  338409  Bachelors             13   \n",
       "\n",
       "       marital-status         occupation   relationship   race     sex  \\\n",
       "0       Never-married       Adm-clerical  Not-in-family  White    Male   \n",
       "1  Married-civ-spouse    Exec-managerial        Husband  White    Male   \n",
       "2            Divorced  Handlers-cleaners  Not-in-family  White    Male   \n",
       "3  Married-civ-spouse  Handlers-cleaners        Husband  Black    Male   \n",
       "4  Married-civ-spouse     Prof-specialty           Wife  Black  Female   \n",
       "\n",
       "   capital-gain  capital-loss  hours-per-week native-country salary  \n",
       "0          2174             0              40  United-States  <=50K  \n",
       "1             0             0              13  United-States  <=50K  \n",
       "2             0             0              40  United-States  <=50K  \n",
       "3             0             0              40  United-States  <=50K  \n",
       "4             0             0              40           Cuba  <=50K  "
      ]
     },
     "execution_count": 3,
     "metadata": {},
     "output_type": "execute_result"
    }
   ],
   "source": [
    "df.head(5)"
   ]
  },
  {
   "cell_type": "markdown",
   "id": "2d11a890",
   "metadata": {},
   "source": [
    "How many people of each race are represented in this dataset? This should be a Pandas series with race names as the index labels. (race column)"
   ]
  },
  {
   "cell_type": "code",
   "execution_count": 5,
   "id": "99072d60",
   "metadata": {},
   "outputs": [
    {
     "data": {
      "text/plain": [
       "race\n",
       "White                 27816\n",
       "Black                  3124\n",
       "Asian-Pac-Islander     1039\n",
       "Amer-Indian-Eskimo      311\n",
       "Other                   271\n",
       "Name: count, dtype: int64"
      ]
     },
     "execution_count": 5,
     "metadata": {},
     "output_type": "execute_result"
    }
   ],
   "source": [
    "df['race'].value_counts()"
   ]
  },
  {
   "cell_type": "markdown",
   "id": "9b2b6ad2",
   "metadata": {},
   "source": [
    "What is the average age of men?"
   ]
  },
  {
   "cell_type": "code",
   "execution_count": 8,
   "id": "602b628a",
   "metadata": {},
   "outputs": [
    {
     "name": "stdout",
     "output_type": "stream",
     "text": [
      "39.43354749885268\n"
     ]
    }
   ],
   "source": [
    "avg_age_of_men = df[df['sex'] == 'Male']['age'].mean()\n",
    "print(avg_age_of_men)"
   ]
  },
  {
   "cell_type": "markdown",
   "id": "f0cc3c35",
   "metadata": {},
   "source": [
    "What is the percentage of people who have a Bachelor's degree?"
   ]
  },
  {
   "cell_type": "code",
   "execution_count": 23,
   "id": "d1bf28cc",
   "metadata": {},
   "outputs": [
    {
     "name": "stdout",
     "output_type": "stream",
     "text": [
      "Percentage of people with Bachelors: 16.45%\n"
     ]
    }
   ],
   "source": [
    "df_people_with_bachelors = df[df['education'] == 'Bachelors']\n",
    "people_with_bachelors = len(df_people_with_bachelors)\n",
    "total_people = len(df)\n",
    "print(f\"Percentage of people with Bachelors: {people_with_bachelors / total_people * 100:.2f}%\")"
   ]
  },
  {
   "cell_type": "markdown",
   "id": "e9c95468",
   "metadata": {},
   "source": [
    "What percentage of people with advanced education (Bachelors, Masters, or Doctorate) make more than 50K?"
   ]
  },
  {
   "cell_type": "code",
   "execution_count": 36,
   "id": "83913647",
   "metadata": {},
   "outputs": [
    {
     "name": "stdout",
     "output_type": "stream",
     "text": [
      "Percentage of people with advanced education earning >50K: 46.54%\n"
     ]
    }
   ],
   "source": [
    "df_people_adv_education = df[df['education'].isin(['Bachelors', 'Masters', 'Doctorate'])]\n",
    "df_people_adv_edu_high_salary = df_people_adv_education[df_people_adv_education['salary'] == '>50K']\n",
    "people_adv_edu = df_people_adv_education.shape[0]\n",
    "people_adv_edu_high_salary = df_people_adv_edu_high_salary.shape[0]\n",
    "print(f\"Percentage of people with advanced education earning >50K: {people_adv_edu_high_salary/ people_adv_edu * 100:.2f}%\")"
   ]
  },
  {
   "cell_type": "markdown",
   "id": "4f4b429b",
   "metadata": {},
   "source": [
    "What percentage of people without advanced education make more than 50K?"
   ]
  },
  {
   "cell_type": "code",
   "execution_count": 37,
   "id": "c08c124d",
   "metadata": {},
   "outputs": [
    {
     "name": "stdout",
     "output_type": "stream",
     "text": [
      "Percentage of people without advanced education earning >50K: 17.37%\n"
     ]
    }
   ],
   "source": [
    "df_people_not_adv_education = df[~df['education'].isin(['Bachelors', 'Masters', 'Doctorate'])]\n",
    "df_people_not_adv_edu_high_salary = df_people_not_adv_education[df_people_not_adv_education['salary'] == '>50K']\n",
    "people_not_adv_edu = df_people_not_adv_education.shape[0]\n",
    "people_not_adv_edu_high_salary = df_people_not_adv_edu_high_salary.shape[0]\n",
    "print(f\"Percentage of people without advanced education earning >50K: {people_not_adv_edu_high_salary / people_not_adv_edu * 100:.2f}%\")"
   ]
  },
  {
   "cell_type": "markdown",
   "id": "ec4c8249",
   "metadata": {},
   "source": [
    "What is the minimum number of hours a person works per week?"
   ]
  },
  {
   "cell_type": "code",
   "execution_count": 39,
   "id": "08c2b973",
   "metadata": {},
   "outputs": [
    {
     "name": "stdout",
     "output_type": "stream",
     "text": [
      "Minimum number of hours worked per week: 1\n"
     ]
    }
   ],
   "source": [
    "min_number_of_hours_per_week = df['hours-per-week'].min()\n",
    "print(f\"Minimum number of hours worked per week: {min_number_of_hours_per_week}\")"
   ]
  },
  {
   "cell_type": "markdown",
   "id": "b66fc794",
   "metadata": {},
   "source": [
    "What percentage of the people who work the minimum number of hours per week have a salary of more than 50K?"
   ]
  },
  {
   "cell_type": "code",
   "execution_count": 41,
   "id": "88683b07",
   "metadata": {},
   "outputs": [
    {
     "name": "stdout",
     "output_type": "stream",
     "text": [
      "Percentage of people working minimum hours earning >50K: 10.00%\n"
     ]
    }
   ],
   "source": [
    "df_people_work_min_hours = df[df['hours-per-week'] == df['hours-per-week'].min()]\n",
    "df_people_work_min_hours_high_salary = df_people_work_min_hours[df_people_work_min_hours['salary'] == '>50K']\n",
    "people_work_min_hours = df_people_work_min_hours.shape[0]\n",
    "people_work_min_hours_high_salary = df_people_work_min_hours_high_salary.shape[0]\n",
    "print(f\"Percentage of people working minimum hours earning >50K: {people_work_min_hours_high_salary / people_work_min_hours * 100:.2f}%\")"
   ]
  },
  {
   "cell_type": "markdown",
   "id": "7563d932",
   "metadata": {},
   "source": [
    "What country has the highest percentage of people that earn >50K and what is that percentage?"
   ]
  },
  {
   "cell_type": "code",
   "execution_count": 47,
   "id": "2c2c9d29",
   "metadata": {},
   "outputs": [
    {
     "name": "stdout",
     "output_type": "stream",
     "text": [
      "Country with highest percentage of people earning >50K: Iran (41.86%)\n"
     ]
    }
   ],
   "source": [
    "total_for_country = df.groupby('native-country').size()\n",
    "df_high_salary = df[df['salary'] == '>50K']\n",
    "high_salary_per_country = df_high_salary.groupby('native-country').size()\n",
    "percentage_high_salary = (high_salary_per_country / total_for_country) * 100\n",
    "country_max = percentage_high_salary.idxmax()\n",
    "percentage_max = percentage_high_salary.max()\n",
    "print(f\"Country with highest percentage of people earning >50K: {country_max} ({percentage_max:.2f}%)\")"
   ]
  },
  {
   "cell_type": "markdown",
   "id": "25597294",
   "metadata": {},
   "source": [
    "Identify the most popular occupation for those who earn >50K in India."
   ]
  },
  {
   "cell_type": "code",
   "execution_count": 50,
   "id": "e0bcd051",
   "metadata": {},
   "outputs": [
    {
     "name": "stdout",
     "output_type": "stream",
     "text": [
      "Most popular occupation for Indians earning >50K: Prof-specialty\n"
     ]
    },
    {
     "name": "stderr",
     "output_type": "stream",
     "text": [
      "C:\\Users\\sergi\\AppData\\Local\\Temp\\ipykernel_27988\\1830779674.py:1: UserWarning: Boolean Series key will be reindexed to match DataFrame index.\n",
      "  df_indian_people_high_salary = df[df['native-country'] == 'India'][df['salary'] == '>50K']\n"
     ]
    }
   ],
   "source": [
    "df_indian_people_high_salary = df[df['native-country'] == 'India'][df['salary'] == '>50K']\n",
    "most_popular_occupation = df_indian_people_high_salary['occupation'].mode()[0]\n",
    "print(f\"Most popular occupation for Indians earning >50K: {most_popular_occupation}\")"
   ]
  }
 ],
 "metadata": {
  "kernelspec": {
   "display_name": "Python 3",
   "language": "python",
   "name": "python3"
  },
  "language_info": {
   "codemirror_mode": {
    "name": "ipython",
    "version": 3
   },
   "file_extension": ".py",
   "mimetype": "text/x-python",
   "name": "python",
   "nbconvert_exporter": "python",
   "pygments_lexer": "ipython3",
   "version": "3.11.9"
  }
 },
 "nbformat": 4,
 "nbformat_minor": 5
}
